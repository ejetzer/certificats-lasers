{
 "cells": [
  {
   "cell_type": "code",
   "execution_count": 1,
   "metadata": {},
   "outputs": [],
   "source": [
    "import pptx"
   ]
  },
  {
   "cell_type": "code",
   "execution_count": 26,
   "metadata": {},
   "outputs": [],
   "source": [
    "import datetime as dt"
   ]
  },
  {
   "cell_type": "code",
   "execution_count": 18,
   "metadata": {},
   "outputs": [],
   "source": [
    "cert = pptx.Presentation('Certificat Formation Laser v1.pptx')"
   ]
  },
  {
   "cell_type": "code",
   "execution_count": 19,
   "metadata": {},
   "outputs": [
    {
     "data": {
      "text/plain": [
       "<pptx.presentation.Presentation at 0x1039ef5f0>"
      ]
     },
     "execution_count": 19,
     "metadata": {},
     "output_type": "execute_result"
    }
   ],
   "source": [
    "cert"
   ]
  },
  {
   "cell_type": "code",
   "execution_count": 20,
   "metadata": {},
   "outputs": [
    {
     "name": "stdout",
     "output_type": "stream",
     "text": [
      "Nom: Émile Jetzer\n",
      "Matricule: p11806\n"
     ]
    }
   ],
   "source": [
    "nom = input('Nom: ')\n",
    "matricule = input('Matricule: ')"
   ]
  },
  {
   "cell_type": "code",
   "execution_count": 21,
   "metadata": {},
   "outputs": [
    {
     "name": "stdout",
     "output_type": "stream",
     "text": [
      "nom\n",
      "Émile Jetzer\n",
      "matricule\n",
      "p11806\n"
     ]
    }
   ],
   "source": [
    "for forme in cert.slides[0].shapes:\n",
    "    if forme.has_text_frame:\n",
    "        for par in forme.text_frame.paragraphs:\n",
    "            for ligne in par.runs:\n",
    "                if ligne.text == 'nom':\n",
    "                    print(ligne.text)\n",
    "                    ligne.text = nom\n",
    "                    print(ligne.text)\n",
    "                elif ligne.text == 'matricule':\n",
    "                    print(ligne.text)\n",
    "                    ligne.text = matricule\n",
    "                    print(ligne.text)"
   ]
  },
  {
   "cell_type": "code",
   "execution_count": 22,
   "metadata": {},
   "outputs": [],
   "source": [
    "cert.save(f'{nom}.pptx')"
   ]
  },
  {
   "cell_type": "code",
   "execution_count": 31,
   "metadata": {},
   "outputs": [],
   "source": [
    "def nouveau_certificat(nom, matricule):\n",
    "    cert = pptx.Presentation('Certificat Formation Laser v1.pptx')\n",
    "    for forme in cert.slides[0].shapes:\n",
    "        if forme.has_text_frame:\n",
    "            for par in forme.text_frame.paragraphs:\n",
    "                for ligne in par.runs:\n",
    "                    if ligne.text == 'nom':\n",
    "                        ligne.text = nom\n",
    "                    elif ligne.text == 'matricule':\n",
    "                        ligne.text = matricule\n",
    "                    elif ligne.text.startswith('Date'):\n",
    "                        date = dt.datetime.today()\n",
    "                        ligne.text = f'Date: {date.year}-{date.month:02}'\n",
    "    cert.save(f'{nom}.pptx')"
   ]
  },
  {
   "cell_type": "code",
   "execution_count": 32,
   "metadata": {},
   "outputs": [],
   "source": [
    "nouveau_certificat('Test', 'allo')"
   ]
  },
  {
   "cell_type": "code",
   "execution_count": 33,
   "metadata": {},
   "outputs": [],
   "source": [
    "import subprocess as sp"
   ]
  },
  {
   "cell_type": "code",
   "execution_count": null,
   "metadata": {},
   "outputs": [],
   "source": [
    "sp.run(['unoconv', '-f', 'pdf', f'{nom}.pptx'])"
   ]
  }
 ],
 "metadata": {
  "kernelspec": {
   "display_name": "Python 3",
   "language": "python",
   "name": "python3"
  },
  "language_info": {
   "codemirror_mode": {
    "name": "ipython",
    "version": 3
   },
   "file_extension": ".py",
   "mimetype": "text/x-python",
   "name": "python",
   "nbconvert_exporter": "python",
   "pygments_lexer": "ipython3",
   "version": "3.7.4"
  }
 },
 "nbformat": 4,
 "nbformat_minor": 2
}
